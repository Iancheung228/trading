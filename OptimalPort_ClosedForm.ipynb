{
 "cells": [
  {
   "cell_type": "markdown",
   "metadata": {},
   "source": [
    "# Activity 1: Computing Optimal Portfolios with Form Closed Solution\n",
    "----\n",
    "In this activity we are going to analyze properties of the optimal portfolio within the context of the two asset example we explore in class. \n",
    "\n",
    "The optimal solution in that case is given by:\n",
    "> $x_1 = \\frac{R^{e,2}\\sigma_{12}-R^{e,1}\\sigma^2_2}\n",
    "{\\gamma(\\sigma_{12}^2-\\sigma_1^2 \\sigma_2^2)}$,\n",
    " $x_2 = \\frac{R^{e,1}\\sigma_{12}-R^{e,2}\\sigma^2_1}\n",
    "{\\gamma(\\sigma_{12}^2-\\sigma_1^2 \\sigma_2^2)}$\n",
    "\n",
    "We are going to define a function to handle the computation of these values and the expected return and volatility of a portfolio. \n",
    "\n",
    "Note: expected values and volatilities are computed using the risky components of the portfolio (assets 1 and 2)"
   ]
  },
  {
   "cell_type": "code",
   "execution_count": 58,
   "metadata": {},
   "outputs": [],
   "source": [
    "import numpy as np\n",
    "\n",
    "def optWeights(r,s,cr, g):\n",
    "    #This function computes optimal weights using closed-form solution\n",
    "    r_1 = r[0]\n",
    "    r_2 = r[1]\n",
    "    sigma_1 = s[0]\n",
    "    sigma_2 = s[1]\n",
    "    cov = cr*sigma_1*sigma_2\n",
    "    x = np.zeros(3)\n",
    "    x[0] = (r_2*cov - r_1*sigma_2**2)/(g*(cov**2 -(sigma_1**2)*(sigma_2**2)))\n",
    "    x[1] = (r_1*cov - r_2*sigma_1**2)/(g*(cov**2 -(sigma_1**2)*(sigma_2**2)))\n",
    "    x[2] = 1 - x[0] - x[1]\n",
    "    return x"
   ]
  },
  {
   "cell_type": "code",
   "execution_count": 59,
   "metadata": {},
   "outputs": [
    {
     "name": "stdout",
     "output_type": "stream",
     "text": [
      "[0.33333333 0.66666667 0.        ]\n"
     ]
    }
   ],
   "source": [
    "ret = np.array([0.09,0.15])\n",
    "sigma = np.array([0.20,0.25])\n",
    "corr = 0.5\n",
    "g = 3\n",
    "x = optWeights(ret,sigma,corr,g)\n",
    "print(x)"
   ]
  },
  {
   "cell_type": "code",
   "execution_count": 71,
   "metadata": {},
   "outputs": [],
   "source": [
    "def expRetVar(ret,sigma,corr,g,weights):\n",
    "    #This function computes the expected return and volatility of portfolio\n",
    "    X = weights[0:2]\n",
    "    expRet = np.dot(X.T,ret) #This is equivalent to: np.sum(X*ret)\n",
    "    SigMtx = [[sigma[0]**2,corr*sigma[0]*sigma[1]],\\\n",
    "              [corr*sigma[0]*sigma[1],sigma[1]**2]]\n",
    "    expVar = np.sqrt(np.dot(X.T,np.dot(SigMtx,X)))\n",
    "    return expRet, expVar\n"
   ]
  },
  {
   "cell_type": "code",
   "execution_count": 83,
   "metadata": {},
   "outputs": [
    {
     "name": "stdout",
     "output_type": "stream",
     "text": [
      "The expected value of the portfolio is 0.1300 and the volatility is 0.2082\n",
      "The function value is 0.0650000\n"
     ]
    }
   ],
   "source": [
    "exR, exV = expRetVar(ret,sigma,corr,g,x)\n",
    "print(\"The expected value of the portfolio is %5.4f and the volatility is %5.4f\"%(exR,exV))\n",
    "print(\"The function value is %4.7f\"%(exR-(g/2)*(exV**2)))"
   ]
  },
  {
   "cell_type": "markdown",
   "metadata": {},
   "source": [
    "Let's look at the impact of the aversion coefficient $\\gamma$ on the optimal weights, expected return, and expected volatility:"
   ]
  },
  {
   "cell_type": "code",
   "execution_count": 49,
   "metadata": {},
   "outputs": [
    {
     "name": "stdout",
     "output_type": "stream",
     "text": [
      "For gamma= 1.00, the optimal weights are: ( 1.00, 2.00,-2.00).\n",
      "The expected return and volatility are  0.39 and  0.62, respectively.\n",
      "For gamma= 2.00, the optimal weights are: ( 0.50, 1.00,-0.50).\n",
      "The expected return and volatility are  0.20 and  0.31, respectively.\n",
      "For gamma= 3.00, the optimal weights are: ( 0.33, 0.67, 0.00).\n",
      "The expected return and volatility are  0.13 and  0.21, respectively.\n",
      "For gamma= 4.00, the optimal weights are: ( 0.25, 0.50, 0.25).\n",
      "The expected return and volatility are  0.10 and  0.16, respectively.\n",
      "For gamma= 5.00, the optimal weights are: ( 0.20, 0.40, 0.40).\n",
      "The expected return and volatility are  0.08 and  0.12, respectively.\n",
      "For gamma= 6.00, the optimal weights are: ( 0.17, 0.33, 0.50).\n",
      "The expected return and volatility are  0.07 and  0.10, respectively.\n",
      "For gamma= 7.00, the optimal weights are: ( 0.14, 0.29, 0.57).\n",
      "The expected return and volatility are  0.06 and  0.09, respectively.\n",
      "For gamma= 8.00, the optimal weights are: ( 0.12, 0.25, 0.62).\n",
      "The expected return and volatility are  0.05 and  0.08, respectively.\n"
     ]
    }
   ],
   "source": [
    "corr = 0.5\n",
    "gamma = range(1,9,1)\n",
    "num_elem = len(gamma)\n",
    "x = np.zeros((num_elem,3))\n",
    "exRet = np.zeros(num_elem)\n",
    "exVol = np.zeros(num_elem)\n",
    "for i in range(num_elem):\n",
    "    x[i,:] = optWeights(ret,sigma,corr,gamma[i])\n",
    "    exRet[i], exVol[i] = expRetVar(ret,sigma,corr,gamma[i],x[i,:])\n",
    "    print(\"For gamma=%5.2f, the optimal weights are: (%5.2f,%5.2f,%5.2f).\"%(gamma[i],x[i,0],x[i,1],x[i,2]))\n",
    "    print(\"The expected return and volatility are %5.2f and %5.2f, respectively.\" %(exRet[i],exVol[i]))\n",
    "\n"
   ]
  },
  {
   "cell_type": "markdown",
   "metadata": {},
   "source": [
    "# Activity 2: Compute Optimal Portfolio Using Numerical Optimization\n",
    "----\n",
    "\n",
    "We are going to solve the optimization problem:\n",
    "\n",
    "> $\\max_{x} x'R^{e} - \\frac{\\gamma}{2} x'\\Omega x$\n",
    "\n",
    "which is equivalent to solving:\n",
    "> $\\min_{x} -(x'R^{e} - \\frac{\\gamma}{2} x'\\Omega x)$\n",
    "\n",
    "To use numerical optimization, we have to first define the function that we want to minimize"
   ]
  },
  {
   "cell_type": "code",
   "execution_count": 1,
   "metadata": {},
   "outputs": [],
   "source": [
    "def min_func_meanVar(X,ret,Omega,gamma):\n",
    "    #This function computes the negative of the objective function\n",
    "    expRet = np.dot(X.T,ret) #This is equivalent to: np.sum(X*ret)\n",
    "    expVar = np.dot(X.T,np.dot(Omega,X))\n",
    "    val_funct = expRet - (gamma/2)*expVar\n",
    "    return -1*val_funct"
   ]
  },
  {
   "cell_type": "markdown",
   "metadata": {},
   "source": [
    "To carry out the optimization, we need to follow the next instructions"
   ]
  },
  {
   "cell_type": "code",
   "execution_count": 4,
   "metadata": {},
   "outputs": [
    {
     "name": "stdout",
     "output_type": "stream",
     "text": [
      "     fun: -0.06499998122696451\n",
      "     jac: array([-3.91509384e-05,  3.45520675e-05])\n",
      " message: 'Optimization terminated successfully.'\n",
      "    nfev: 32\n",
      "     nit: 8\n",
      "    njev: 8\n",
      "  status: 0\n",
      " success: True\n",
      "       x: array([0.33274474, 0.66708637])\n",
      "The optimal solution is\n",
      "[0.33274474 0.66708637]\n"
     ]
    }
   ],
   "source": [
    "import scipy.optimize as sco #module where optimization functions are available\n",
    "import numpy as np\n",
    "\n",
    "g = 3\n",
    "ret = np.array([0.09,0.15])\n",
    "sigma = np.array([0.20,0.25])\n",
    "corr = 0.5\n",
    "cov = corr*sigma[0]*sigma[1]\n",
    "Omega = np.array([[sigma[0]**2,cov],[cov,sigma[1]**2]])\n",
    "#Set up the optimization problem\n",
    "args = (ret, Omega,g)\n",
    "num_assets = len(ret)\n",
    "init_x = np.ones(num_assets)*(1/num_assets) #set equal weights as starting point\n",
    "result = sco.minimize(min_func_meanVar, init_x, args=args, method='SLSQP')\n",
    "print(result)\n",
    "opt_x = result.x\n",
    "print(\"The optimal solution is\")\n",
    "print(opt_x)"
   ]
  },
  {
   "cell_type": "code",
   "execution_count": null,
   "metadata": {},
   "outputs": [],
   "source": []
  }
 ],
 "metadata": {
  "kernelspec": {
   "display_name": "Python 3",
   "language": "python",
   "name": "python3"
  },
  "language_info": {
   "codemirror_mode": {
    "name": "ipython",
    "version": 3
   },
   "file_extension": ".py",
   "mimetype": "text/x-python",
   "name": "python",
   "nbconvert_exporter": "python",
   "pygments_lexer": "ipython3",
   "version": "3.7.4"
  }
 },
 "nbformat": 4,
 "nbformat_minor": 2
}
