{
 "cells": [
  {
   "cell_type": "markdown",
   "metadata": {},
   "source": [
    "## Activity 2: Building a Robo-Advisor\n",
    "----\n",
    "\n",
    "Portfolio optimization is intertwined with robo-advisors. One simple modification that we have to make is the fact that there are constraints added to the optimization problem. We are going to use four stocks and constrain the posititions in the following way:\n",
    "\n",
    "- We are going to only allow for long positions (no negative values)\n",
    "- A maximum amount of 40% is allowed in each asset\n",
    "- The sum of all weights has to be equal to 1\n"
   ]
  },
  {
   "cell_type": "code",
   "execution_count": 1,
   "metadata": {},
   "outputs": [
    {
     "name": "stdout",
     "output_type": "stream",
     "text": [
      "VZ       0.062657\n",
      "AAPL     0.216997\n",
      "GOOGL    0.194599\n",
      "JPM      0.189164\n",
      "dtype: float64\n",
      "             VZ      AAPL     GOOGL       JPM\n",
      "VZ     0.026855  0.006110  0.007564  0.009821\n",
      "AAPL   0.006110  0.063026  0.023904  0.017960\n",
      "GOOGL  0.007564  0.023904  0.051626  0.018306\n",
      "JPM    0.009821  0.017960  0.018306  0.044672\n"
     ]
    }
   ],
   "source": [
    "import pandas as pd\n",
    "import numpy as np\n",
    "import scipy.optimize as sco\n",
    "\n",
    "#Load data from Excel file\n",
    "closingPrices = pd.read_excel(\"data_BackTest.xlsx\",sheet_name=\"Closing Price\")\n",
    "#Build a column of type datetime\n",
    "closingPrices[\"Date\"] = pd.to_datetime(closingPrices.date,format='%Y-%m-%d') #transform from string into an object of type datetime\n",
    "#Create data set for the analysis\n",
    "symbol = [\"VZ\",\"AAPL\",\"GOOGL\",\"JPM\"] #symbols for the analysis\n",
    "b_date = pd.to_datetime(\"2012-01-01\",format='%Y-%m-%d') #begining period\n",
    "e_date = pd.to_datetime(\"2019-11-30\",format='%Y-%m-%d') #end period\n",
    "columns = [\"Date\"]\n",
    "columns.extend(symbol)\n",
    "data_analysis = closingPrices.loc[(closingPrices.Date>=b_date) & (closingPrices.Date<=e_date) ,columns].copy()\n",
    "\n",
    "ret_assets = data_analysis[symbol].pct_change()\n",
    "#compute annualized values\n",
    "retPrt = ret_assets.mean()*250\n",
    "CovMtx = ret_assets.cov()*250\n",
    "print(retPrt)\n",
    "print(CovMtx)"
   ]
  },
  {
   "cell_type": "markdown",
   "metadata": {},
   "source": [
    "Next, we define the function that we want to maximize"
   ]
  },
  {
   "cell_type": "code",
   "execution_count": 2,
   "metadata": {},
   "outputs": [],
   "source": [
    "def min_func_meanVar(X,ret,Omega,gamma):\n",
    "    #This function computes the negative of the objective function\n",
    "    expRet = np.dot(X.T,ret) #This is equivalent to: np.sum(X*ret)\n",
    "    expVar = np.dot(X.T,np.dot(Omega,X))\n",
    "    val_funct = expRet - (gamma/2)*expVar\n",
    "    return -1*val_funct"
   ]
  },
  {
   "cell_type": "markdown",
   "metadata": {},
   "source": [
    "We are going to compute the aversion risk for the investor (look at the file \"Risk Tolerance Assessment.pdf\" for examples of on how to compute a score). I'm going to assume that a client has a risk-aversion of 1.5."
   ]
  },
  {
   "cell_type": "code",
   "execution_count": 3,
   "metadata": {},
   "outputs": [],
   "source": [
    "g = 1.5"
   ]
  },
  {
   "cell_type": "markdown",
   "metadata": {},
   "source": [
    "We can check that different portfolio weights give different values:"
   ]
  },
  {
   "cell_type": "code",
   "execution_count": 4,
   "metadata": {},
   "outputs": [
    {
     "name": "stdout",
     "output_type": "stream",
     "text": [
      "-0.14928360324250284\n",
      "-0.15896871202806528\n",
      "-0.1901724487081155\n"
     ]
    }
   ],
   "source": [
    "print(min_func_meanVar(np.array([0.25,0.25,0.25,0.25]),retPrt,CovMtx,g))\n",
    "print(min_func_meanVar(np.array([0.5,0.25,0.25,0.25]),retPrt,CovMtx,g))\n",
    "print(min_func_meanVar(np.array([0.25,0.5,0.25,0.25]),retPrt,CovMtx,g))"
   ]
  },
  {
   "cell_type": "code",
   "execution_count": 5,
   "metadata": {},
   "outputs": [
    {
     "name": "stdout",
     "output_type": "stream",
     "text": [
      "     fun: -0.17785894727724344\n",
      "     jac: array([-0.05116463, -0.16035154, -0.14883382, -0.15001085])\n",
      " message: 'Optimization terminated successfully.'\n",
      "    nfev: 30\n",
      "     nit: 5\n",
      "    njev: 5\n",
      "  status: 0\n",
      " success: True\n",
      "       x: array([1.96023753e-16, 4.00000000e-01, 2.99067346e-01, 3.00932654e-01])\n",
      "The optimal portolio for this client is: (VZ, 0.00),(AAPL, 0.40),(GOOGL, 0.30),(JPM, 0.30)\n"
     ]
    }
   ],
   "source": [
    "\n",
    "args = (retPrt, CovMtx,g)\n",
    "num_assets = len(retPrt)\n",
    "init_x = np.ones(num_assets)*(1/num_assets) #set equal weight as starting point\n",
    "#bnds = ((0, None), (0, None),(0, None), (0, None)) #No short positions \n",
    "bnds = ((0, 0.4), (0, 0.4),(0, 0.4), (0, 0.4)) #No short positions and a limit of 40% in each asset\n",
    "#bnds = tuple((0,0.4) for asset in range(num_assets)) #this code generates tuples in an efficient way\n",
    "cons = ({'type': 'eq', 'fun': lambda x:  x.sum()-1})\n",
    "result = sco.minimize(min_func_meanVar, init_x, args=args, method='SLSQP',bounds=bnds,constraints=cons)\n",
    "print(result)\n",
    "print('The optimal portolio for this client is: (%s,%5.2f),(%s,%5.2f),(%s,%5.2f),(%s,%5.2f)'\\\n",
    "      %(symbol[0],result.x[0],symbol[1],result.x[1],symbol[2],result.x[2],symbol[3],result.x[3]))\n"
   ]
  },
  {
   "cell_type": "code",
   "execution_count": null,
   "metadata": {},
   "outputs": [],
   "source": []
  }
 ],
 "metadata": {
  "kernelspec": {
   "display_name": "Python 3",
   "language": "python",
   "name": "python3"
  },
  "language_info": {
   "codemirror_mode": {
    "name": "ipython",
    "version": 3
   },
   "file_extension": ".py",
   "mimetype": "text/x-python",
   "name": "python",
   "nbconvert_exporter": "python",
   "pygments_lexer": "ipython3",
   "version": "3.7.4"
  }
 },
 "nbformat": 4,
 "nbformat_minor": 2
}
