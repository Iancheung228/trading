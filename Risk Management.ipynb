{
 "cells": [
  {
   "cell_type": "markdown",
   "metadata": {},
   "source": [
    "# Activity 3: Compute VaR and ES\n",
    "---\n",
    "In this activity, we are going to compute the VaR and ES for Apple stock\n",
    "\n",
    "First, let's build the data set with returns"
   ]
  },
  {
   "cell_type": "code",
   "execution_count": 2,
   "metadata": {},
   "outputs": [],
   "source": [
    "import pandas as pd\n",
    "import numpy as np\n",
    "import scipy.optimize as sco\n",
    "\n",
    "#Load data from Excel file\n",
    "closingPrices = pd.read_excel(\"data_BackTest.xlsx\",sheet_name=\"Closing Price\")\n",
    "#Build a column of type datetime\n",
    "closingPrices[\"Date\"] = pd.to_datetime(closingPrices.date,format='%Y-%m-%d') #transform from string into an object of type datetime\n",
    "#Create data set for the analysis\n",
    "symbol = \"AAPL\" #symbols for the analysis\n",
    "b_date = pd.to_datetime(\"2012-01-01\",format='%Y-%m-%d') #begining period\n",
    "e_date = pd.to_datetime(\"2019-11-30\",format='%Y-%m-%d') #end period\n",
    "columns = [\"Date\",symbol]\n",
    "data_analysis = closingPrices.loc[(closingPrices.Date>=b_date) & (closingPrices.Date<=e_date) ,columns].copy()\n",
    "\n",
    "ret_assets = data_analysis[symbol].pct_change()\n",
    "ret_assets.dropna(inplace=True)"
   ]
  },
  {
   "cell_type": "markdown",
   "metadata": {},
   "source": [
    "The compute the VaR and ES, we need to select the returns that are on the left tail of the distribution. To this end, we first sort returns in ascendent order and then we find the position of the percentile of interest (5%). From the list of ordered returns in the tail, VaR is the largest return from this list. The ES is computed as the average of returns in this list.\n"
   ]
  },
  {
   "cell_type": "code",
   "execution_count": 3,
   "metadata": {},
   "outputs": [
    {
     "name": "stdout",
     "output_type": "stream",
     "text": [
      "The VaR at  5.00% is -2.48%\n",
      "The ES at  5.00% is -3.64%\n"
     ]
    }
   ],
   "source": [
    "ret_assets.sort_values(inplace=True, ascending=True) #sort returns from smallest to largest\n",
    "num_obs = len(ret_assets)\n",
    "pct_VaR = 0.05\n",
    "VaR_pos = round(num_obs*pct_VaR)\n",
    "tail_obs = ret_assets.loc[(ret_assets<=ret_assets.iloc[VaR_pos])]\n",
    "VaR = tail_obs.max()\n",
    "ES = tail_obs.mean()\n",
    "print(\"The VaR at %5.2f%% is %5.2f%%\"%(pct_VaR*100,VaR*100))\n",
    "print(\"The ES at %5.2f%% is %5.2f%%\"%(pct_VaR*100,ES*100))"
   ]
  },
  {
   "cell_type": "markdown",
   "metadata": {},
   "source": [
    "We can take a look at the most extreme returns of the distribution:"
   ]
  },
  {
   "cell_type": "code",
   "execution_count": 5,
   "metadata": {},
   "outputs": [
    {
     "data": {
      "text/plain": [
       "294    -0.123550\n",
       "1844   -0.099607\n",
       "557    -0.079927\n",
       "1800   -0.066331\n",
       "1078   -0.065707\n",
       "Name: AAPL, dtype: float64"
      ]
     },
     "execution_count": 5,
     "metadata": {},
     "output_type": "execute_result"
    }
   ],
   "source": [
    "ret_assets.head()"
   ]
  },
  {
   "cell_type": "markdown",
   "metadata": {},
   "source": [
    "We can also look at the VaR and ES overlapped with the  whole distribution of returns:"
   ]
  },
  {
   "cell_type": "code",
   "execution_count": 6,
   "metadata": {},
   "outputs": [
    {
     "data": {
      "image/png": "[encoded data removed]",
      "text/plain": [
       "<Figure size 432x288 with 1 Axes>"
      ]
     },
     "metadata": {
      "needs_background": "light"
     },
     "output_type": "display_data"
    }
   ],
   "source": [
    "import matplotlib.pyplot as plt\n",
    "%matplotlib inline\n",
    "plt.hist(ret_assets, bins='auto')\n",
    "plt.axvline(x=VaR, color = 'red')\n",
    "plt.axvline(x=ES, color= 'green')\n",
    "plt.show()"
   ]
  },
  {
   "cell_type": "code",
   "execution_count": null,
   "metadata": {},
   "outputs": [],
   "source": []
  }
 ],
 "metadata": {
  "kernelspec": {
   "display_name": "Python 3",
   "language": "python",
   "name": "python3"
  },
  "language_info": {
   "codemirror_mode": {
    "name": "ipython",
    "version": 3
   },
   "file_extension": ".py",
   "mimetype": "text/x-python",
   "name": "python",
   "nbconvert_exporter": "python",
   "pygments_lexer": "ipython3",
   "version": "3.7.4"
  }
 },
 "nbformat": 4,
 "nbformat_minor": 2
}
